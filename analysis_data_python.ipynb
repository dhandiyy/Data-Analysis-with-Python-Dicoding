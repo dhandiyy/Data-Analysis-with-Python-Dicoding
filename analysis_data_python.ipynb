{
 "cells": [
  {
   "cell_type": "markdown",
   "metadata": {},
   "source": [
    "<h4> Measuring Central Tendency </h4>\n",
    "<hr>\n",
    "\n",
    "Measuring central tendency merupakan sekumpulan parameter statistik untuk menggambarkan nilai khas atau sentral yang mewakili keseluruhan observasi atau data. Nilai khas atau sentral tersebut direpresentasikan menggunakan tiga parameter statistik yaitu mean, median, dan mode"
   ]
  },
  {
   "cell_type": "markdown",
   "metadata": {},
   "source": [
    "<ul><h5> Mean </h5>\n",
    "\n",
    "Mean atau sering juga disebut sebagai expected value merupakan salah satu parameter yang paling sering digunakan untuk menggambarkan nilai khas atau sentral dari suatu data. Ia diperoleh dari menghitung jumlah keseluruhan data dan dibagi dengan banyaknya data yang dimiliki."
   ]
  },
  {
   "cell_type": "code",
   "execution_count": 1,
   "metadata": {},
   "outputs": [
    {
     "data": {
      "text/plain": [
       "1.7"
      ]
     },
     "execution_count": 1,
     "metadata": {},
     "output_type": "execute_result"
    }
   ],
   "source": [
    "import numpy as np\n",
    "     \n",
    "jumlah_kucing = np.array([3, 2, 1, 1, 2, 3, 2, 1, 0, 2])\n",
    "jumlah_kucing.mean()"
   ]
  },
  {
   "cell_type": "markdown",
   "metadata": {},
   "source": [
    "<ul><h5>Median</h5>\n",
    "\n",
    "Median merupakan parameter yang merepresentasikan nilai tengah atau persentil ke-50 dari keseluruhan observasi atau data. Parameter ini diperoleh dengan mengambil nilai persentil ke-50 dari data yang telah diurutkan."
   ]
  },
  {
   "cell_type": "code",
   "execution_count": 2,
   "metadata": {},
   "outputs": [
    {
     "data": {
      "text/plain": [
       "2.0"
      ]
     },
     "execution_count": 2,
     "metadata": {},
     "output_type": "execute_result"
    }
   ],
   "source": [
    "np.median(jumlah_kucing)"
   ]
  },
  {
   "cell_type": "markdown",
   "metadata": {},
   "source": [
    "<ul><h5>Mode</h5>\n",
    "\n",
    "Parameter ketiga dalam measuring central tendency ialah mode. Parameter ini akan memberikan kita gambaran atau informasi terkait nilai yang paling sering muncul dalam suatu data. "
   ]
  },
  {
   "cell_type": "code",
   "execution_count": 3,
   "metadata": {},
   "outputs": [
    {
     "name": "stdout",
     "output_type": "stream",
     "text": [
      "[2]\n"
     ]
    }
   ],
   "source": [
    "from scipy import stats\n",
    "\n",
    "mode_jumlah_kucing = stats.mode(jumlah_kucing)[0]\n",
    " \n",
    "print(mode_jumlah_kucing)"
   ]
  },
  {
   "cell_type": "markdown",
   "metadata": {},
   "source": [
    "<h4>Measuring Dispersion</h4>\n",
    "<hr>\n",
    "\n",
    "konsep statistik untuk menilai sebaran dari suatu data yaitu measuring dispersion atau sering juga disebut measures of spread. Ia akan memberikan informasi terkait seberapa jauh suatu titik data dengan titik data lainnya. Untuk menggambarkan measuring dispersion, kita dapat menggunakan empat parameter, yaitu range, interquartile range, variance, dan standard deviation "
   ]
  },
  {
   "cell_type": "markdown",
   "metadata": {},
   "source": [
    "<ul><h5>Range</h5>\n",
    "\n",
    "Parameter pertama yang akan kita bahas adalah range. Ia merupakan parameter yang digunakan untuk melihat perbedaan antara nilai maksimum dan minimum dari suatu data. "
   ]
  },
  {
   "cell_type": "code",
   "execution_count": 4,
   "metadata": {},
   "outputs": [
    {
     "name": "stdout",
     "output_type": "stream",
     "text": [
      "3\n"
     ]
    }
   ],
   "source": [
    "range_jumlah_kucing = jumlah_kucing.max() - jumlah_kucing.min()\n",
    "print(range_jumlah_kucing)"
   ]
  },
  {
   "cell_type": "markdown",
   "metadata": {},
   "source": [
    "<ul><h5>Interquartile Range</h5>\n",
    "\n",
    "Interquartile Range atau sering disingkat IQR merupakan parameter statistik yang menggambarkan selisih antara kuartil ketiga (Q3) dan kuartil pertama (Q1). Parameter ini mewakili nilai range atau rentang di mana sebagian besar titik data berada."
   ]
  },
  {
   "cell_type": "code",
   "execution_count": 5,
   "metadata": {},
   "outputs": [
    {
     "name": "stdout",
     "output_type": "stream",
     "text": [
      "1.0\n"
     ]
    }
   ],
   "source": [
    "iqr_jumlah_kucing = np.percentile(jumlah_kucing, 75) - np.percentile(jumlah_kucing, 25)\n",
    "print(iqr_jumlah_kucing)"
   ]
  },
  {
   "cell_type": "markdown",
   "metadata": {},
   "source": [
    "<ul><h5>Variance</h5>\n",
    "\n",
    "Selain range dan IQR, sebaran dari suatu data juga dapat direpresentasikan menggunakan parameter variance. Ia merupakan parameter yang digunakan untuk menggambarkan besar simpangan suatu titik data dari nilai mean-nya"
   ]
  },
  {
   "cell_type": "code",
   "execution_count": 6,
   "metadata": {},
   "outputs": [
    {
     "data": {
      "text/plain": [
       "0.9000000000000001"
      ]
     },
     "execution_count": 6,
     "metadata": {},
     "output_type": "execute_result"
    }
   ],
   "source": [
    "import pandas as pd\n",
    "    \n",
    "jumlah_kucing_series = pd.Series(jumlah_kucing)\n",
    "jumlah_kucing_series.var()"
   ]
  },
  {
   "cell_type": "markdown",
   "metadata": {},
   "source": [
    "<ul><h5>Standard Deviation</h5>\n",
    "\n",
    "Jika Anda perhatikan, pada perhitungan variance kita sebenarnya telah menghitung rata-rata selisih kuadrat antar titik data dan nilai mean-nya. Penggunaan selisih kuadrat ini membuat unit dari parameter variance berbeda dengan unit data sehingga cukup sulit untuk diinterpretasikan. Oleh karena itu, kita membutuhkan satu parameter lain yang akan menghitung akar kuadrat dari variance. Parameter tersebut bernama standard deviation."
   ]
  },
  {
   "cell_type": "code",
   "execution_count": 7,
   "metadata": {},
   "outputs": [
    {
     "data": {
      "text/plain": [
       "0.9486832980505139"
      ]
     },
     "execution_count": 7,
     "metadata": {},
     "output_type": "execute_result"
    }
   ],
   "source": [
    "jumlah_kucing_series.std()\n",
    "\n",
    "# Semakin kecil nilai standard deviation, semakin kecil pula jarak antar titik data dengan nilai mean-nya \n",
    "# sehingga bisa disimpulkan data tersebut memiliki sebaran yang sempit"
   ]
  },
  {
   "cell_type": "markdown",
   "metadata": {},
   "source": [
    "<h4>Measuring Asymmetric</h4>\n",
    "<hr>\n",
    "\n",
    "Measuring asymmetric merupakan konsep statistik yang digunakan untuk mengidentifikasi ketidaksimetrisan dalam sebuah distribusi data numerik. Parameter statistik yang umum digunakan dalam measuring asymmetric ialah skewness.\n",
    "\n",
    "Secara umum, berdasarkan bentuk grafik histogram yang terbentuk, kita bisa membagi distribusi data dalam tiga bentuk yaitu symmetric distribution, right-skewed distribution, dan left-skewed distribution"
   ]
  },
  {
   "cell_type": "code",
   "execution_count": 8,
   "metadata": {},
   "outputs": [
    {
     "data": {
      "image/png": "[encoded data removed]",
      "text/plain": [
       "<Figure size 432x288 with 1 Axes>"
      ]
     },
     "metadata": {
      "needs_background": "light"
     },
     "output_type": "display_data"
    }
   ],
   "source": [
    "import matplotlib.pyplot as plt\n",
    " \n",
    "\n",
    "plt.hist(jumlah_kucing, bins=4)\n",
    "plt.show()"
   ]
  },
  {
   "cell_type": "markdown",
   "metadata": {},
   "source": [
    "<ul><h5>Skewness</h5>\n",
    "\n",
    "Skewness merupakan parameter statistik yang digunakan untuk mengukur kesimetrisan sebuah distribusi data. Ia mampu memberikan kita gambaran tentang banyaknya data yang menyimpang dari symmetric distribution. Parameter ini memiliki jangkauan nilai mulai dari negatif hingga positif\n",
    "\n",
    "Positif -> rigth-skewed\n",
    "\n",
    "Negatif -> left-skewed"
   ]
  },
  {
   "cell_type": "code",
   "execution_count": 9,
   "metadata": {},
   "outputs": [
    {
     "data": {
      "text/plain": [
       "-0.2342427896421018"
      ]
     },
     "execution_count": 9,
     "metadata": {},
     "output_type": "execute_result"
    }
   ],
   "source": [
    "jumlah_kucing_series.skew()"
   ]
  },
  {
   "cell_type": "markdown",
   "metadata": {},
   "source": [
    "<h4>Data Relationship</h4>\n",
    "<hr>\n",
    "\n",
    "By definition, data relationship merupakan konsep statistik untuk mengidentifikasi hubungan antar feature bertipe numerik dalam sebuah data. Untuk mengidentifikasi hubungan antar feature bertipe numerik, kita bisa menggunakan dua parameter yaitu correlation dan covariance. "
   ]
  },
  {
   "cell_type": "markdown",
   "metadata": {},
   "source": [
    "<ul><h5>Correlation</h5>\n",
    "\n",
    "Parameter ini digunakan untuk mengidentifikasi korelasi atau hubungan dari dua feature numerik dalam sebuah data. Korelasi ini digambarkan menggunakan nilai dengan rentang -1 hingga 1.\n",
    "\n",
    "Pada parameter correlation, nilai negatif menggambarkan korelasi berlawanan (negative correlation), sedangkan nilai positif merepresentasikan korelasi bersesuaian (positive correlation). Jika correlation dari dua feature bernilai nol, keduanya dinyatakan tidak memiliki korelasi (no correlation)."
   ]
  },
  {
   "cell_type": "code",
   "execution_count": 10,
   "metadata": {},
   "outputs": [
    {
     "data": {
      "text/html": [
       "<div>\n",
       "<style scoped>\n",
       "    .dataframe tbody tr th:only-of-type {\n",
       "        vertical-align: middle;\n",
       "    }\n",
       "\n",
       "    .dataframe tbody tr th {\n",
       "        vertical-align: top;\n",
       "    }\n",
       "\n",
       "    .dataframe thead th {\n",
       "        text-align: right;\n",
       "    }\n",
       "</style>\n",
       "<table border=\"1\" class=\"dataframe\">\n",
       "  <thead>\n",
       "    <tr style=\"text-align: right;\">\n",
       "      <th></th>\n",
       "      <th>age</th>\n",
       "      <th>communication_skill_score</th>\n",
       "      <th>quantitative_skill_score</th>\n",
       "    </tr>\n",
       "  </thead>\n",
       "  <tbody>\n",
       "    <tr>\n",
       "      <th>age</th>\n",
       "      <td>1.000000</td>\n",
       "      <td>0.848855</td>\n",
       "      <td>-0.922489</td>\n",
       "    </tr>\n",
       "    <tr>\n",
       "      <th>communication_skill_score</th>\n",
       "      <td>0.848855</td>\n",
       "      <td>1.000000</td>\n",
       "      <td>-0.890724</td>\n",
       "    </tr>\n",
       "    <tr>\n",
       "      <th>quantitative_skill_score</th>\n",
       "      <td>-0.922489</td>\n",
       "      <td>-0.890724</td>\n",
       "      <td>1.000000</td>\n",
       "    </tr>\n",
       "  </tbody>\n",
       "</table>\n",
       "</div>"
      ],
      "text/plain": [
       "                                age  communication_skill_score  \\\n",
       "age                        1.000000                   0.848855   \n",
       "communication_skill_score  0.848855                   1.000000   \n",
       "quantitative_skill_score  -0.922489                  -0.890724   \n",
       "\n",
       "                           quantitative_skill_score  \n",
       "age                                       -0.922489  \n",
       "communication_skill_score                 -0.890724  \n",
       "quantitative_skill_score                   1.000000  "
      ]
     },
     "execution_count": 10,
     "metadata": {},
     "output_type": "execute_result"
    }
   ],
   "source": [
    "sample_data = {\n",
    "    'name': ['John', 'Alia', 'Ananya', 'Steve', 'Ben'],\n",
    "    'age': [24, 22, 23, 25, 28],  \n",
    "    'communication_skill_score': [85, 70, 75, 90, 90],\n",
    "    'quantitative_skill_score': [80, 90, 80, 75, 70]\n",
    "}\n",
    " \n",
    "df = pd.DataFrame(sample_data)\n",
    " \n",
    "df.corr(numeric_only=True)"
   ]
  },
  {
   "cell_type": "markdown",
   "metadata": {},
   "source": [
    "Pada tabel korelasi di atas, dapat dilihat bahwa feature age dan communication_skill_score memiliki korelasi cukup bersesuaian. Sebaliknya, feature age dan quantitative_skill_score memiliki korelasi yang sangat berlawanan."
   ]
  },
  {
   "cell_type": "markdown",
   "metadata": {},
   "source": [
    "<ul><h5>Covariance</h5>\n",
    "\n",
    "\n",
    "Selain menggunakan correlation, kita juga bisa menggunakan parameter covariance untuk mengidentifikasi hubungan antar dua feature dalam sebuah dataset. Berdasarkan nilainya, covariance terbagi menjadi tiga bagian seperti berikut.\n",
    "\n",
    "    Positive covariance yang menggambarkan dua feature yang berkorelasi positif atau bersesuaian.\n",
    "    Negative covariance yang merepresentasikan dua feature yang berkorelasi negatif atau berlawanan.\n",
    "    Zero covariance yang menandakan dua feature yang tidak berkorelasi satu sama lain."
   ]
  },
  {
   "cell_type": "code",
   "execution_count": 11,
   "metadata": {},
   "outputs": [
    {
     "data": {
      "text/html": [
       "<div>\n",
       "<style scoped>\n",
       "    .dataframe tbody tr th:only-of-type {\n",
       "        vertical-align: middle;\n",
       "    }\n",
       "\n",
       "    .dataframe tbody tr th {\n",
       "        vertical-align: top;\n",
       "    }\n",
       "\n",
       "    .dataframe thead th {\n",
       "        text-align: right;\n",
       "    }\n",
       "</style>\n",
       "<table border=\"1\" class=\"dataframe\">\n",
       "  <thead>\n",
       "    <tr style=\"text-align: right;\">\n",
       "      <th></th>\n",
       "      <th>age</th>\n",
       "      <th>communication_skill_score</th>\n",
       "      <th>quantitative_skill_score</th>\n",
       "    </tr>\n",
       "  </thead>\n",
       "  <tbody>\n",
       "    <tr>\n",
       "      <th>age</th>\n",
       "      <td>5.30</td>\n",
       "      <td>17.75</td>\n",
       "      <td>-15.75</td>\n",
       "    </tr>\n",
       "    <tr>\n",
       "      <th>communication_skill_score</th>\n",
       "      <td>17.75</td>\n",
       "      <td>82.50</td>\n",
       "      <td>-60.00</td>\n",
       "    </tr>\n",
       "    <tr>\n",
       "      <th>quantitative_skill_score</th>\n",
       "      <td>-15.75</td>\n",
       "      <td>-60.00</td>\n",
       "      <td>55.00</td>\n",
       "    </tr>\n",
       "  </tbody>\n",
       "</table>\n",
       "</div>"
      ],
      "text/plain": [
       "                             age  communication_skill_score  \\\n",
       "age                         5.30                      17.75   \n",
       "communication_skill_score  17.75                      82.50   \n",
       "quantitative_skill_score  -15.75                     -60.00   \n",
       "\n",
       "                           quantitative_skill_score  \n",
       "age                                          -15.75  \n",
       "communication_skill_score                    -60.00  \n",
       "quantitative_skill_score                      55.00  "
      ]
     },
     "execution_count": 11,
     "metadata": {},
     "output_type": "execute_result"
    }
   ],
   "source": [
    "df.cov(numeric_only=True)"
   ]
  },
  {
   "cell_type": "markdown",
   "metadata": {},
   "source": [
    "<h4>Data Credibility</h4>\n",
    "<hr>\n",
    "\n",
    "    Reliabilitas data\n",
    "Reliabilitas merupakan salah satu faktor penting untuk menilai kualitas dan kredibilitas dari sebuah data. Data disebut reliabel jika memuat informasi yang akurat, lengkap, dan tidak bias.\n",
    "\n",
    "    Orisinalitas data\n",
    "Selain reliabilitas, orisinalitas dari sebuah data juga merupakan komponen kunci dalam menilai kualitas dan kredibilitas dari sebuah data. Hal ini erat kaitannya dengan ownership (kepemilikan) dan sumber data.\n",
    "\n",
    "    Komprehensif\n",
    "Poin selanjutnya yang tidak kalah penting ialah komprehensif. Poin ini sangat penting untuk memastikan data yang digunakan memiliki semua informasi yang dibutuhkan untuk menjawab pertanyaan dan tantangan bisnis.\n",
    "\n",
    "    Aktualitas data\n",
    "Last, but not least adalah aktualitas data. Seperti yang telah kita bahas sebelumnya, data di industri umumnya bersifat dinamis atau terus berubah. Jika kita menggunakan data lama, informasi di dalamnya mungkin akan outdated sehingga berdampak terhadap hasil analisis yang dibuat.\n"
   ]
  },
  {
   "cell_type": "markdown",
   "metadata": {},
   "source": [
    "<h4>Data Wrangling</h4>\n",
    "<hr>\n",
    "\n",
    "Data wrangling merupakan sebuah proses atau kumpulan kegiatan yang meliputi pengumpulan data (Gathering data), penilaian data (Assessing data: menilai kualitas dan struktur dari sebuah data), serta pembersihan data (Cleaning data) sebelum data digunakan dalam proses analisis data\n",
    "\n",
    "Sama halnya dengan tahapan dalam analisis data, tahapan dalam data wrangling juga bersifat iterative\n",
    "\n",
    "- Assessing data merupakan penilaian keseluruhan data berupa pengecekan tipe data yang benar, cek outlier, serta missing, duplicate, and innacurate value\n",
    "- Cleaning data merupakan perbaikan dari hasil assessing yang dilakukan sebelumnya"
   ]
  },
  {
   "cell_type": "markdown",
   "metadata": {},
   "source": [
    "<ul><h5>Cleaning Data</h5>\n",
    "\n",
    "Mengatasi missing values\n",
    "\n",
    "- Dropping\n",
    "Pada metode ini, kita akan menghapus seluruh baris atau kolom yang memiliki missing value\n",
    "- Imputation\n",
    "Metode ini bekerja dengan cara mengisi (fill) missing value dengan nilai tertentu.Pada data kontinu, kita bisa menggunakan nilai mean, median, atau mode sebagai pengganti missing value. Jika bekerja menggunakan data kategoris, kita dapat mengisi missing value dengan kategori yang paling sering muncul. \n",
    "- Interpolation\n",
    "Sederhananya, interpolasi merupakan salah satu pendekatan numerik yang digunakan untuk menghitung titik data baru berdasarkan range data yang sudah ada. \n",
    "\n",
    "\n",
    "Mengatasi Outlier\n",
    "\n",
    "- Dropping\n",
    "- Imputation"
   ]
  },
  {
   "cell_type": "markdown",
   "metadata": {},
   "source": [
    "<h4>Exploratory Data Analysis</h4>\n",
    "<hr>\n",
    "\n",
    "EDA merupakan tahap eksplorasi data yang telah dibersihkan guna memperoleh insight dan menjawab pertanyaan analisis. Pada prosesnya, kita akan sering menggunakan berbagai teknik dan parameter dalam descriptive statistics yang bertujuan untuk menemukan pola, hubungan, serta membangun intuisi terkait data yang diolah.\n",
    "- Exploratory Analysis vs Explanatory Analysis\n",
    "\n",
    "Exploratory analysis merupakan proses analisis data yang bertujuan untuk mengeksplorasi dan mengenal sebuah data. Jika dianalogikan, proses exploratory analysis seperti proses penambangan yang mengumpulkan 100 batu untuk menemukan satu atau dua buah berlian yang berharga.\n",
    "\n",
    "Explanatory analysis merupakan proses analisis data yang bertujuan untuk membagikan beberapa insight yang menarik dari sebuah data (bisa diibaratkan sebagai satu atau dua buah berlian yang berharga)\n",
    "\n",
    "Jika disimpulkan, explanatory analysis merupakan proses penyampaian temuan menarik dari proses exploratory analysis. Proses penyampaian ini tentunya harus diikuti dengan visualisasi data yang baik dan efektif. \n"
   ]
  },
  {
   "cell_type": "markdown",
   "metadata": {},
   "source": []
  }
 ],
 "metadata": {
  "kernelspec": {
   "display_name": "Python 3.9.7 64-bit",
   "language": "python",
   "name": "python3"
  },
  "language_info": {
   "codemirror_mode": {
    "name": "ipython",
    "version": 3
   },
   "file_extension": ".py",
   "mimetype": "text/x-python",
   "name": "python",
   "nbconvert_exporter": "python",
   "pygments_lexer": "ipython3",
   "version": "3.9.7"
  },
  "orig_nbformat": 4,
  "vscode": {
   "interpreter": {
    "hash": "e31354491484e96c5d112501e80ac1024364dd6c099e6a4b4ae84778b61938fa"
   }
  }
 },
 "nbformat": 4,
 "nbformat_minor": 2
}
